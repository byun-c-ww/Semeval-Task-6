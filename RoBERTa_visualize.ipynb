{
 "cells": [
  {
   "cell_type": "code",
   "execution_count": null,
   "metadata": {},
   "outputs": [],
   "source": [
    "import numpy as np\n",
    "import pandas as pd\n",
    "import tensorflow as tf\n",
    "from transformers import RobertaTokenizer, TFRobertaModel\n",
    "from sklearn.manifold import TSNE\n",
    "import matplotlib.pyplot as plt\n",
    "\n",
    "# Load tokenizer and model\n",
    "tokenizer = RobertaTokenizer.from_pretrained('roberta-base')\n",
    "model = TFRobertaModel.from_pretrained('roberta-base')\n",
    "\n",
    "# Example DataFrame\n",
    "df = pd.DataFrame({\n",
    "    'hyp': [\"Sentence 1 part A\", \"Sentence 2 part A\", \"Sentence 3 part A\"],\n",
    "    'tgt': [\"Sentence 1 part B\", \"Sentence 2 part B\", \"Sentence 3 part B\"],\n",
    "    'labels': [0, 1, 0]\n",
    "})\n",
    "\n",
    "# Tokenize the data\n",
    "def tokenize_function(examples):\n",
    "    return tokenizer(examples['hyp'], text_pair=examples['tgt'], truncation=True, padding='max_length', max_length=256)\n",
    "\n",
    "tokenized_inputs = df.apply(tokenize_function, axis=1)\n",
    "\n",
    "# Extract embeddings\n",
    "def extract_embeddings(inputs):\n",
    "    input_ids = tf.constant([inputs['input_ids']])\n",
    "    attention_mask = tf.constant([inputs['attention_mask']])\n",
    "    outputs = model(input_ids, attention_mask=attention_mask)\n",
    "    return outputs.last_hidden_state[:, 0, :].numpy()  # [CLS] token embeddings\n",
    "\n",
    "embeddings = tokenized_inputs.apply(extract_embeddings)\n",
    "embeddings = np.vstack(embeddings)\n",
    "\n",
    "# Dimensionality reduction with t-SNE\n",
    "tsne = TSNE(n_components=2, random_state=42)\n",
    "embeddings_2d = tsne.fit_transform(embeddings)\n",
    "\n",
    "# Visualization\n",
    "colors = ['red' if label == 0 else 'blue' for label in df['labels']]\n",
    "plt.figure(figsize=(10, 10))\n",
    "plt.scatter(embeddings_2d[:, 0], embeddings_2d[:, 1], c=colors)\n",
    "plt.title('2D visualization of RoBERTa embeddings')\n",
    "plt.xlabel('Component 1')\n",
    "plt.ylabel('Component 2')\n",
    "plt.show()\n"
   ]
  }
 ],
 "metadata": {
  "kernelspec": {
   "display_name": "tf",
   "language": "python",
   "name": "python3"
  },
  "language_info": {
   "name": "python",
   "version": "3.12.3"
  }
 },
 "nbformat": 4,
 "nbformat_minor": 2
}
