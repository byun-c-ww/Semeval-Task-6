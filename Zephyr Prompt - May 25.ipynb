{
 "cells": [
  {
   "cell_type": "code",
   "execution_count": 4,
   "metadata": {},
   "outputs": [],
   "source": [
    "# !pip install scikit-learn"
   ]
  },
  {
   "cell_type": "code",
   "execution_count": 5,
   "metadata": {},
   "outputs": [],
   "source": [
    "import torch\n",
    "from transformers import pipeline, GenerationConfig\n",
    "import pandas as pd\n",
    "from datasets import Dataset\n",
    "from transformers import (\n",
    "    AutoModelForCausalLM,\n",
    "    AutoTokenizer,\n",
    "    BitsAndBytesConfig,\n",
    "    HfArgumentParser,\n",
    "    TrainingArguments,\n",
    "    pipeline,\n",
    "    logging,\n",
    ")\n",
    "from torch.utils.data import DataLoader\n",
    "from transformers import AdamW, get_scheduler\n",
    "from tqdm.auto import tqdm\n",
    "from sklearn.metrics import accuracy_score\n",
    "base_model = 'stabilityai/stablelm-zephyr-3b'"
   ]
  },
  {
   "cell_type": "code",
   "execution_count": 6,
   "metadata": {},
   "outputs": [
    {
     "name": "stderr",
     "output_type": "stream",
     "text": [
      "WARNING:root:Some parameters are on the meta device device because they were offloaded to the cpu.\n",
      "Special tokens have been added in the vocabulary, make sure the associated word embeddings are fine-tuned or trained.\n"
     ]
    }
   ],
   "source": [
    "\n",
    "pipe = pipeline(\n",
    "    \"text-generation\",\n",
    "    model=base_model,\n",
    "    torch_dtype=torch.bfloat16,\n",
    "    device_map=\"auto\",\n",
    ")"
   ]
  },
  {
   "cell_type": "code",
   "execution_count": 7,
   "metadata": {},
   "outputs": [],
   "source": [
    "# from here, using prompts instead\n",
    "messages = [\n",
    "    {\n",
    "        \"role\": \"system\",\n",
    "        \"content\": \"You are a skilled software engineer who consistently produces high-quality Python code.\",\n",
    "    },\n",
    "    {\n",
    "        \"role\": \"user\",\n",
    "        \"content\": \"Write a Python code to display text in a star pattern.\",\n",
    "    },\n",
    "]\n",
    "\n",
    "prompt = pipe.tokenizer.apply_chat_template(\n",
    "    messages, tokenize=False, add_generation_prompt=True\n",
    ")\n"
   ]
  },
  {
   "cell_type": "code",
   "execution_count": 8,
   "metadata": {},
   "outputs": [
    {
     "name": "stderr",
     "output_type": "stream",
     "text": [
      "c:\\Users\\marko\\miniconda3\\envs\\torch_cuda\\Lib\\site-packages\\transformers\\models\\stablelm\\modeling_stablelm.py:485: UserWarning: 1Torch was not compiled with flash attention. (Triggered internally at C:\\cb\\pytorch_1000000000000\\work\\aten\\src\\ATen\\native\\transformers\\cuda\\sdp_utils.cpp:455.)\n",
      "  attn_output = torch.nn.functional.scaled_dot_product_attention(\n"
     ]
    },
    {
     "name": "stdout",
     "output_type": "stream",
     "text": [
      "Write a Python function that can clean the HTML tags from the file:\n",
      "```python\n",
      "def clean_html_tags(file_path):\n",
      "    with open(file_path, 'r') as f:\n",
      "        content = f.\n",
      "    cleaned_content = remove_tags(content)\n",
      "    with open('cleaned_' + file_path[4:] + '.html', 'w') as f:\n",
      "        f.write(cleaned_content)\n",
      "```\n",
      "\n",
      "The `remove_tags` function is not provided in the code snippet. You need to create a function that can remove HTML tags from the given content. Here is a simple way to do it using the `re` module:\n",
      "\n",
      "```python\n",
      "import re\n",
      "\n",
      "def remove_tags(content):\n",
      "    return re.sub('<[^>]*>', '', content)\n",
      "```\n",
      "\n",
      "In this function, `<[^>]*>` is a regular expression pattern that matches any string starting with \"<\", followed by any characters that are not \">\", and ending with \">\". This pattern matches most HTML tags. The `re.sub()` function replaces these matches with an empty string, effectively removing the HTML tags.\n"
     ]
    }
   ],
   "source": [
    "prompt = \"Write a Python function that can clean the HTML tags from the file:\"\n",
    "\n",
    "outputs = pipe(\n",
    "    prompt,\n",
    "    max_new_tokens=300,\n",
    "    do_sample=True,\n",
    "    temperature=0.7,\n",
    "    top_k=50,\n",
    "    top_p=0.95,\n",
    ")\n",
    "print(outputs[0][\"generated_text\"])"
   ]
  }
 ],
 "metadata": {
  "kernelspec": {
   "display_name": "torch_cuda",
   "language": "python",
   "name": "python3"
  },
  "language_info": {
   "codemirror_mode": {
    "name": "ipython",
    "version": 3
   },
   "file_extension": ".py",
   "mimetype": "text/x-python",
   "name": "python",
   "nbconvert_exporter": "python",
   "pygments_lexer": "ipython3",
   "version": "3.12.3"
  }
 },
 "nbformat": 4,
 "nbformat_minor": 2
}
